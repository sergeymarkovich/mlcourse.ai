{
 "cells": [
  {
   "cell_type": "code",
   "execution_count": 1,
   "metadata": {},
   "outputs": [],
   "source": [
    "import numpy as np\n",
    "import pandas as pd"
   ]
  },
  {
   "cell_type": "code",
   "execution_count": 2,
   "metadata": {},
   "outputs": [],
   "source": [
    "np.set_printoptions(precision=2)"
   ]
  },
  {
   "cell_type": "markdown",
   "metadata": {},
   "source": [
    "**Считываем данные из файла**"
   ]
  },
  {
   "cell_type": "code",
   "execution_count": 3,
   "metadata": {},
   "outputs": [],
   "source": [
    "data = pd.read_csv(\"../../data/beauty.csv\", sep=\";\")"
   ]
  },
  {
   "cell_type": "code",
   "execution_count": 4,
   "metadata": {},
   "outputs": [
    {
     "data": {
      "text/plain": [
       "pandas.core.frame.DataFrame"
      ]
     },
     "execution_count": 4,
     "metadata": {},
     "output_type": "execute_result"
    }
   ],
   "source": [
    "type(data)"
   ]
  },
  {
   "cell_type": "markdown",
   "metadata": {},
   "source": [
    "**Смотрим на первые 5 строк**"
   ]
  },
  {
   "cell_type": "code",
   "execution_count": 5,
   "metadata": {},
   "outputs": [
    {
     "data": {
      "text/html": [
       "<div>\n",
       "<style scoped>\n",
       "    .dataframe tbody tr th:only-of-type {\n",
       "        vertical-align: middle;\n",
       "    }\n",
       "\n",
       "    .dataframe tbody tr th {\n",
       "        vertical-align: top;\n",
       "    }\n",
       "\n",
       "    .dataframe thead th {\n",
       "        text-align: right;\n",
       "    }\n",
       "</style>\n",
       "<table border=\"1\" class=\"dataframe\">\n",
       "  <thead>\n",
       "    <tr style=\"text-align: right;\">\n",
       "      <th></th>\n",
       "      <th>wage</th>\n",
       "      <th>exper</th>\n",
       "      <th>union</th>\n",
       "      <th>goodhlth</th>\n",
       "      <th>black</th>\n",
       "      <th>female</th>\n",
       "      <th>married</th>\n",
       "      <th>service</th>\n",
       "      <th>educ</th>\n",
       "      <th>looks</th>\n",
       "    </tr>\n",
       "  </thead>\n",
       "  <tbody>\n",
       "    <tr>\n",
       "      <th>0</th>\n",
       "      <td>5.73</td>\n",
       "      <td>30</td>\n",
       "      <td>0</td>\n",
       "      <td>1</td>\n",
       "      <td>0</td>\n",
       "      <td>1</td>\n",
       "      <td>1</td>\n",
       "      <td>1</td>\n",
       "      <td>14</td>\n",
       "      <td>4</td>\n",
       "    </tr>\n",
       "    <tr>\n",
       "      <th>1</th>\n",
       "      <td>4.28</td>\n",
       "      <td>28</td>\n",
       "      <td>0</td>\n",
       "      <td>1</td>\n",
       "      <td>0</td>\n",
       "      <td>1</td>\n",
       "      <td>1</td>\n",
       "      <td>0</td>\n",
       "      <td>12</td>\n",
       "      <td>3</td>\n",
       "    </tr>\n",
       "    <tr>\n",
       "      <th>2</th>\n",
       "      <td>7.96</td>\n",
       "      <td>35</td>\n",
       "      <td>0</td>\n",
       "      <td>1</td>\n",
       "      <td>0</td>\n",
       "      <td>1</td>\n",
       "      <td>0</td>\n",
       "      <td>0</td>\n",
       "      <td>10</td>\n",
       "      <td>4</td>\n",
       "    </tr>\n",
       "    <tr>\n",
       "      <th>3</th>\n",
       "      <td>11.57</td>\n",
       "      <td>38</td>\n",
       "      <td>0</td>\n",
       "      <td>1</td>\n",
       "      <td>0</td>\n",
       "      <td>0</td>\n",
       "      <td>1</td>\n",
       "      <td>1</td>\n",
       "      <td>16</td>\n",
       "      <td>3</td>\n",
       "    </tr>\n",
       "    <tr>\n",
       "      <th>4</th>\n",
       "      <td>11.42</td>\n",
       "      <td>27</td>\n",
       "      <td>0</td>\n",
       "      <td>1</td>\n",
       "      <td>0</td>\n",
       "      <td>0</td>\n",
       "      <td>1</td>\n",
       "      <td>0</td>\n",
       "      <td>16</td>\n",
       "      <td>3</td>\n",
       "    </tr>\n",
       "  </tbody>\n",
       "</table>\n",
       "</div>"
      ],
      "text/plain": [
       "    wage  exper  union  goodhlth  black  female  married  service  educ  looks\n",
       "0   5.73     30      0         1      0       1        1        1    14      4\n",
       "1   4.28     28      0         1      0       1        1        0    12      3\n",
       "2   7.96     35      0         1      0       1        0        0    10      4\n",
       "3  11.57     38      0         1      0       0        1        1    16      3\n",
       "4  11.42     27      0         1      0       0        1        0    16      3"
      ]
     },
     "execution_count": 5,
     "metadata": {},
     "output_type": "execute_result"
    }
   ],
   "source": [
    "data.head()"
   ]
  },
  {
   "cell_type": "code",
   "execution_count": 6,
   "metadata": {},
   "outputs": [
    {
     "data": {
      "text/plain": [
       "(1260, 10)"
      ]
     },
     "execution_count": 6,
     "metadata": {},
     "output_type": "execute_result"
    }
   ],
   "source": [
    "data.shape"
   ]
  },
  {
   "cell_type": "markdown",
   "metadata": {},
   "source": [
    "**Краткая статистика – info и describe**"
   ]
  },
  {
   "cell_type": "code",
   "execution_count": 7,
   "metadata": {},
   "outputs": [
    {
     "name": "stdout",
     "output_type": "stream",
     "text": [
      "<class 'pandas.core.frame.DataFrame'>\n",
      "RangeIndex: 1260 entries, 0 to 1259\n",
      "Data columns (total 10 columns):\n",
      " #   Column    Non-Null Count  Dtype  \n",
      "---  ------    --------------  -----  \n",
      " 0   wage      1260 non-null   float64\n",
      " 1   exper     1260 non-null   int64  \n",
      " 2   union     1260 non-null   int64  \n",
      " 3   goodhlth  1260 non-null   int64  \n",
      " 4   black     1260 non-null   int64  \n",
      " 5   female    1260 non-null   int64  \n",
      " 6   married   1260 non-null   int64  \n",
      " 7   service   1260 non-null   int64  \n",
      " 8   educ      1260 non-null   int64  \n",
      " 9   looks     1260 non-null   int64  \n",
      "dtypes: float64(1), int64(9)\n",
      "memory usage: 98.6 KB\n"
     ]
    }
   ],
   "source": [
    "data.info()"
   ]
  },
  {
   "cell_type": "code",
   "execution_count": 8,
   "metadata": {},
   "outputs": [
    {
     "data": {
      "text/html": [
       "<div>\n",
       "<style scoped>\n",
       "    .dataframe tbody tr th:only-of-type {\n",
       "        vertical-align: middle;\n",
       "    }\n",
       "\n",
       "    .dataframe tbody tr th {\n",
       "        vertical-align: top;\n",
       "    }\n",
       "\n",
       "    .dataframe thead th {\n",
       "        text-align: right;\n",
       "    }\n",
       "</style>\n",
       "<table border=\"1\" class=\"dataframe\">\n",
       "  <thead>\n",
       "    <tr style=\"text-align: right;\">\n",
       "      <th></th>\n",
       "      <th>wage</th>\n",
       "      <th>exper</th>\n",
       "      <th>union</th>\n",
       "      <th>goodhlth</th>\n",
       "      <th>black</th>\n",
       "      <th>female</th>\n",
       "      <th>married</th>\n",
       "      <th>service</th>\n",
       "      <th>educ</th>\n",
       "      <th>looks</th>\n",
       "    </tr>\n",
       "  </thead>\n",
       "  <tbody>\n",
       "    <tr>\n",
       "      <th>count</th>\n",
       "      <td>1260.000000</td>\n",
       "      <td>1260.000000</td>\n",
       "      <td>1260.000000</td>\n",
       "      <td>1260.000000</td>\n",
       "      <td>1260.000000</td>\n",
       "      <td>1260.000000</td>\n",
       "      <td>1260.000000</td>\n",
       "      <td>1260.000000</td>\n",
       "      <td>1260.000000</td>\n",
       "      <td>1260.000000</td>\n",
       "    </tr>\n",
       "    <tr>\n",
       "      <th>mean</th>\n",
       "      <td>6.306690</td>\n",
       "      <td>18.206349</td>\n",
       "      <td>0.272222</td>\n",
       "      <td>0.933333</td>\n",
       "      <td>0.073810</td>\n",
       "      <td>0.346032</td>\n",
       "      <td>0.691270</td>\n",
       "      <td>0.273810</td>\n",
       "      <td>12.563492</td>\n",
       "      <td>3.185714</td>\n",
       "    </tr>\n",
       "    <tr>\n",
       "      <th>std</th>\n",
       "      <td>4.660639</td>\n",
       "      <td>11.963485</td>\n",
       "      <td>0.445280</td>\n",
       "      <td>0.249543</td>\n",
       "      <td>0.261564</td>\n",
       "      <td>0.475892</td>\n",
       "      <td>0.462153</td>\n",
       "      <td>0.446089</td>\n",
       "      <td>2.624489</td>\n",
       "      <td>0.684877</td>\n",
       "    </tr>\n",
       "    <tr>\n",
       "      <th>min</th>\n",
       "      <td>1.020000</td>\n",
       "      <td>0.000000</td>\n",
       "      <td>0.000000</td>\n",
       "      <td>0.000000</td>\n",
       "      <td>0.000000</td>\n",
       "      <td>0.000000</td>\n",
       "      <td>0.000000</td>\n",
       "      <td>0.000000</td>\n",
       "      <td>5.000000</td>\n",
       "      <td>1.000000</td>\n",
       "    </tr>\n",
       "    <tr>\n",
       "      <th>25%</th>\n",
       "      <td>3.707500</td>\n",
       "      <td>8.000000</td>\n",
       "      <td>0.000000</td>\n",
       "      <td>1.000000</td>\n",
       "      <td>0.000000</td>\n",
       "      <td>0.000000</td>\n",
       "      <td>0.000000</td>\n",
       "      <td>0.000000</td>\n",
       "      <td>12.000000</td>\n",
       "      <td>3.000000</td>\n",
       "    </tr>\n",
       "    <tr>\n",
       "      <th>50%</th>\n",
       "      <td>5.300000</td>\n",
       "      <td>15.000000</td>\n",
       "      <td>0.000000</td>\n",
       "      <td>1.000000</td>\n",
       "      <td>0.000000</td>\n",
       "      <td>0.000000</td>\n",
       "      <td>1.000000</td>\n",
       "      <td>0.000000</td>\n",
       "      <td>12.000000</td>\n",
       "      <td>3.000000</td>\n",
       "    </tr>\n",
       "    <tr>\n",
       "      <th>75%</th>\n",
       "      <td>7.695000</td>\n",
       "      <td>27.000000</td>\n",
       "      <td>1.000000</td>\n",
       "      <td>1.000000</td>\n",
       "      <td>0.000000</td>\n",
       "      <td>1.000000</td>\n",
       "      <td>1.000000</td>\n",
       "      <td>1.000000</td>\n",
       "      <td>13.000000</td>\n",
       "      <td>4.000000</td>\n",
       "    </tr>\n",
       "    <tr>\n",
       "      <th>max</th>\n",
       "      <td>77.720000</td>\n",
       "      <td>48.000000</td>\n",
       "      <td>1.000000</td>\n",
       "      <td>1.000000</td>\n",
       "      <td>1.000000</td>\n",
       "      <td>1.000000</td>\n",
       "      <td>1.000000</td>\n",
       "      <td>1.000000</td>\n",
       "      <td>17.000000</td>\n",
       "      <td>5.000000</td>\n",
       "    </tr>\n",
       "  </tbody>\n",
       "</table>\n",
       "</div>"
      ],
      "text/plain": [
       "              wage        exper        union     goodhlth        black  \\\n",
       "count  1260.000000  1260.000000  1260.000000  1260.000000  1260.000000   \n",
       "mean      6.306690    18.206349     0.272222     0.933333     0.073810   \n",
       "std       4.660639    11.963485     0.445280     0.249543     0.261564   \n",
       "min       1.020000     0.000000     0.000000     0.000000     0.000000   \n",
       "25%       3.707500     8.000000     0.000000     1.000000     0.000000   \n",
       "50%       5.300000    15.000000     0.000000     1.000000     0.000000   \n",
       "75%       7.695000    27.000000     1.000000     1.000000     0.000000   \n",
       "max      77.720000    48.000000     1.000000     1.000000     1.000000   \n",
       "\n",
       "            female      married      service         educ        looks  \n",
       "count  1260.000000  1260.000000  1260.000000  1260.000000  1260.000000  \n",
       "mean      0.346032     0.691270     0.273810    12.563492     3.185714  \n",
       "std       0.475892     0.462153     0.446089     2.624489     0.684877  \n",
       "min       0.000000     0.000000     0.000000     5.000000     1.000000  \n",
       "25%       0.000000     0.000000     0.000000    12.000000     3.000000  \n",
       "50%       0.000000     1.000000     0.000000    12.000000     3.000000  \n",
       "75%       1.000000     1.000000     1.000000    13.000000     4.000000  \n",
       "max       1.000000     1.000000     1.000000    17.000000     5.000000  "
      ]
     },
     "execution_count": 8,
     "metadata": {},
     "output_type": "execute_result"
    }
   ],
   "source": [
    "data.describe()"
   ]
  },
  {
   "cell_type": "markdown",
   "metadata": {},
   "source": [
    "**Индексация**"
   ]
  },
  {
   "cell_type": "code",
   "execution_count": 9,
   "metadata": {},
   "outputs": [
    {
     "data": {
      "text/plain": [
       "0    30\n",
       "1    28\n",
       "2    35\n",
       "3    38\n",
       "4    27\n",
       "Name: exper, dtype: int64"
      ]
     },
     "execution_count": 9,
     "metadata": {},
     "output_type": "execute_result"
    }
   ],
   "source": [
    "data[\"exper\"].head()"
   ]
  },
  {
   "cell_type": "markdown",
   "metadata": {},
   "source": [
    "**loc и iloc**"
   ]
  },
  {
   "cell_type": "code",
   "execution_count": 25,
   "metadata": {},
   "outputs": [
    {
     "data": {
      "text/plain": [
       "0     5.73\n",
       "1     4.28\n",
       "2     7.96\n",
       "3    11.57\n",
       "4    11.42\n",
       "5     3.91\n",
       "Name: wage, dtype: float64"
      ]
     },
     "execution_count": 25,
     "metadata": {},
     "output_type": "execute_result"
    }
   ],
   "source": [
    "data.loc[0:5, \"wage\"]"
   ]
  },
  {
   "cell_type": "code",
   "execution_count": 11,
   "metadata": {},
   "outputs": [
    {
     "data": {
      "text/html": [
       "<div>\n",
       "<style scoped>\n",
       "    .dataframe tbody tr th:only-of-type {\n",
       "        vertical-align: middle;\n",
       "    }\n",
       "\n",
       "    .dataframe tbody tr th {\n",
       "        vertical-align: top;\n",
       "    }\n",
       "\n",
       "    .dataframe thead th {\n",
       "        text-align: right;\n",
       "    }\n",
       "</style>\n",
       "<table border=\"1\" class=\"dataframe\">\n",
       "  <thead>\n",
       "    <tr style=\"text-align: right;\">\n",
       "      <th></th>\n",
       "      <th>union</th>\n",
       "      <th>goodhlth</th>\n",
       "    </tr>\n",
       "  </thead>\n",
       "  <tbody>\n",
       "    <tr>\n",
       "      <th>0</th>\n",
       "      <td>0</td>\n",
       "      <td>1</td>\n",
       "    </tr>\n",
       "    <tr>\n",
       "      <th>1</th>\n",
       "      <td>0</td>\n",
       "      <td>1</td>\n",
       "    </tr>\n",
       "    <tr>\n",
       "      <th>2</th>\n",
       "      <td>0</td>\n",
       "      <td>1</td>\n",
       "    </tr>\n",
       "    <tr>\n",
       "      <th>3</th>\n",
       "      <td>0</td>\n",
       "      <td>1</td>\n",
       "    </tr>\n",
       "    <tr>\n",
       "      <th>4</th>\n",
       "      <td>0</td>\n",
       "      <td>1</td>\n",
       "    </tr>\n",
       "  </tbody>\n",
       "</table>\n",
       "</div>"
      ],
      "text/plain": [
       "   union  goodhlth\n",
       "0      0         1\n",
       "1      0         1\n",
       "2      0         1\n",
       "3      0         1\n",
       "4      0         1"
      ]
     },
     "execution_count": 11,
     "metadata": {},
     "output_type": "execute_result"
    }
   ],
   "source": [
    "data.iloc[:, 2:4].head()"
   ]
  },
  {
   "cell_type": "markdown",
   "metadata": {},
   "source": [
    "**Логическая индексация**"
   ]
  },
  {
   "cell_type": "code",
   "execution_count": 12,
   "metadata": {},
   "outputs": [
    {
     "data": {
      "text/plain": [
       "(4.299357798165136, 7.3688228155339734)"
      ]
     },
     "execution_count": 12,
     "metadata": {},
     "output_type": "execute_result"
    }
   ],
   "source": [
    "data[data[\"female\"] == 1][\"wage\"].mean(), data[data[\"female\"] == 0][\"wage\"].mean()"
   ]
  },
  {
   "cell_type": "code",
   "execution_count": 13,
   "metadata": {},
   "outputs": [
    {
     "data": {
      "text/plain": [
       "(6.710000000000001, 5.0649999999999995)"
      ]
     },
     "execution_count": 13,
     "metadata": {},
     "output_type": "execute_result"
    }
   ],
   "source": [
    "data[(data[\"female\"] == 0) & (data[\"married\"] == 1)][\"wage\"].median(), data[\n",
    "    (data[\"female\"] == 0) & (data[\"married\"] == 0)\n",
    "][\"wage\"].median()"
   ]
  },
  {
   "cell_type": "markdown",
   "metadata": {
    "collapsed": true
   },
   "source": [
    "**Groupby**"
   ]
  },
  {
   "cell_type": "code",
   "execution_count": 49,
   "metadata": {},
   "outputs": [
    {
     "ename": "AttributeError",
     "evalue": "'tuple' object has no attribute 'head'",
     "output_type": "error",
     "traceback": [
      "\u001b[1;31m---------------------------------------------------------------------------\u001b[0m",
      "\u001b[1;31mAttributeError\u001b[0m                            Traceback (most recent call last)",
      "Cell \u001b[1;32mIn [49], line 2\u001b[0m\n\u001b[0;32m      1\u001b[0m \u001b[38;5;28;01mfor\u001b[39;00m i \u001b[38;5;129;01min\u001b[39;00m data\u001b[38;5;241m.\u001b[39mgroupby(\u001b[38;5;124m\"\u001b[39m\u001b[38;5;124mlooks\u001b[39m\u001b[38;5;124m\"\u001b[39m):\n\u001b[1;32m----> 2\u001b[0m     \u001b[38;5;28mprint\u001b[39m(\u001b[43mi\u001b[49m\u001b[38;5;241;43m.\u001b[39;49m\u001b[43mhead\u001b[49m())\n",
      "\u001b[1;31mAttributeError\u001b[0m: 'tuple' object has no attribute 'head'"
     ]
    }
   ],
   "source": [
    "for look in data.groupby(\"looks\"):\n",
    "    print(i.head())"
   ]
  },
  {
   "cell_type": "code",
   "execution_count": 35,
   "metadata": {},
   "outputs": [
    {
     "data": {
      "text/plain": [
       "0    917\n",
       "1    343\n",
       "Name: union, dtype: int64"
      ]
     },
     "execution_count": 35,
     "metadata": {},
     "output_type": "execute_result"
    }
   ],
   "source": [
    "data.union.value_counts()"
   ]
  },
  {
   "cell_type": "code",
   "execution_count": 58,
   "metadata": {},
   "outputs": [
    {
     "name": "stdout",
     "output_type": "stream",
     "text": [
      "28      8.35\n",
      "200     3.75\n",
      "248    10.99\n",
      "751     7.93\n",
      "837     5.56\n",
      "842     7.69\n",
      "877     2.73\n",
      "980     2.31\n",
      "Name: wage, dtype: float64\n",
      "327     1.65\n",
      "1126    3.46\n",
      "1149    1.26\n",
      "1171    2.25\n",
      "1213    2.15\n",
      "Name: wage, dtype: float64\n",
      "12      5.14\n",
      "33      8.17\n",
      "35      9.62\n",
      "37      7.69\n",
      "57      6.56\n",
      "        ... \n",
      "1130    3.34\n",
      "1138    1.17\n",
      "1179    6.41\n",
      "1236    4.81\n",
      "1241    5.34\n",
      "Name: wage, Length: 88, dtype: float64\n",
      "65      7.14\n",
      "79      5.73\n",
      "94      6.73\n",
      "96      4.35\n",
      "118     4.37\n",
      "127     1.92\n",
      "134     6.59\n",
      "135     6.73\n",
      "144     4.53\n",
      "145     9.10\n",
      "172     5.77\n",
      "275     8.21\n",
      "335     1.92\n",
      "371     8.24\n",
      "435     2.27\n",
      "461     4.05\n",
      "500     1.98\n",
      "518     1.95\n",
      "544     3.34\n",
      "556     1.98\n",
      "560     3.92\n",
      "567     3.96\n",
      "620     2.88\n",
      "628     1.98\n",
      "630     4.87\n",
      "670     3.46\n",
      "711     2.26\n",
      "852     4.00\n",
      "857     3.37\n",
      "858     6.41\n",
      "862     3.75\n",
      "876     1.96\n",
      "878     2.63\n",
      "915     3.75\n",
      "922     1.98\n",
      "924     3.37\n",
      "961     6.67\n",
      "984     3.75\n",
      "994     5.77\n",
      "1100    2.12\n",
      "1117    2.02\n",
      "1147    2.07\n",
      "1153    3.75\n",
      "1156    2.19\n",
      "1158    2.47\n",
      "1162    2.26\n",
      "1186    1.80\n",
      "1188    2.00\n",
      "1195    2.33\n",
      "1198    5.13\n",
      "1215    2.40\n",
      "1225    5.82\n",
      "1226    1.09\n",
      "1256    1.68\n",
      "Name: wage, dtype: float64\n",
      "3       11.57\n",
      "4       11.42\n",
      "6        8.76\n",
      "13       3.00\n",
      "16       5.16\n",
      "        ...  \n",
      "1246     5.39\n",
      "1249     8.65\n",
      "1250     4.17\n",
      "1251     6.81\n",
      "1252     9.62\n",
      "Name: wage, Length: 489, dtype: float64\n",
      "1       4.28\n",
      "5       3.91\n",
      "8       5.00\n",
      "9       3.89\n",
      "19      7.69\n",
      "        ... \n",
      "1254    1.79\n",
      "1255    1.61\n",
      "1257    3.29\n",
      "1258    2.31\n",
      "1259    1.92\n",
      "Name: wage, Length: 233, dtype: float64\n",
      "7        7.69\n",
      "11       4.03\n",
      "14       7.99\n",
      "15       6.01\n",
      "17      11.54\n",
      "        ...  \n",
      "1239     4.62\n",
      "1240     2.40\n",
      "1243     4.72\n",
      "1247     5.31\n",
      "1248    10.58\n",
      "Name: wage, Length: 228, dtype: float64\n",
      "0        5.73\n",
      "2        7.96\n",
      "10       3.45\n",
      "18      10.44\n",
      "50       9.16\n",
      "        ...  \n",
      "1196     3.57\n",
      "1220     5.49\n",
      "1222     3.29\n",
      "1223     2.88\n",
      "1227     1.28\n",
      "Name: wage, Length: 136, dtype: float64\n",
      "26      14.84\n",
      "27      19.08\n",
      "76      23.32\n",
      "316      3.92\n",
      "363     10.66\n",
      "534      3.81\n",
      "653      7.96\n",
      "659     12.66\n",
      "952      4.81\n",
      "1013     3.61\n",
      "1017     4.49\n",
      "Name: wage, dtype: float64\n",
      "112     6.11\n",
      "492     2.51\n",
      "506     4.40\n",
      "512     5.09\n",
      "562     4.95\n",
      "613     3.95\n",
      "639     2.14\n",
      "1200    2.07\n",
      "Name: wage, dtype: float64\n"
     ]
    }
   ],
   "source": [
    "for look, sub_df in data.groupby([\"looks\", \"female\"]):\n",
    "    print(sub_df.wage)"
   ]
  },
  {
   "cell_type": "code",
   "execution_count": 52,
   "metadata": {},
   "outputs": [
    {
     "name": "stdout",
     "output_type": "stream",
     "text": [
      "       wage  exper  union  goodhlth  black  female  married  service  educ  \\\n",
      "28     8.35     41      0         0      0       0        1        1    16   \n",
      "200    3.75     36      0         1      0       0        0        0    12   \n",
      "248   10.99     40      0         1      0       0        1        0    12   \n",
      "327    1.65     24      0         1      0       1        0        1    13   \n",
      "751    7.93     39      1         1      0       0        1        0    12   \n",
      "837    5.56     10      0         1      0       0        1        0    13   \n",
      "842    7.69      9      1         0      0       0        1        0    12   \n",
      "877    2.73     41      0         1      0       0        1        0     8   \n",
      "980    2.31     35      1         1      0       0        1        0     5   \n",
      "1126   3.46     26      0         1      0       1        0        1     5   \n",
      "1149   1.26     32      0         1      1       1        0        0     5   \n",
      "1171   2.25     12      0         1      1       1        0        0     5   \n",
      "1213   2.15      6      0         1      0       1        1        1    12   \n",
      "\n",
      "      looks  is_rich  rubbish  \n",
      "28        1        1  17.7960  \n",
      "200       1        0  13.6200  \n",
      "248       1        1  18.9544  \n",
      "327       1        0   8.6040  \n",
      "751       1        1  16.9208  \n",
      "837       1        0   6.3136  \n",
      "842       1        0   7.1864  \n",
      "877       1        0  14.6488  \n",
      "980       1        0  12.4936  \n",
      "1126      1        0  10.2576  \n",
      "1149      1        0  10.9456  \n",
      "1171      1        0   5.1000  \n",
      "1213      1        0   3.1240  \n",
      "      wage  exper  union  goodhlth  black  female  married  service  educ  \\\n",
      "12    5.14     19      0         1      0       0        1        1    17   \n",
      "33    8.17     18      0         1      0       0        1        0    16   \n",
      "35    9.62     37      0         1      0       0        1        0    13   \n",
      "37    7.69     10      1         1      0       0        1        0    13   \n",
      "57    6.56     17      0         1      0       0        1        0    13   \n",
      "...    ...    ...    ...       ...    ...     ...      ...      ...   ...   \n",
      "1225  5.82     20      0         1      0       1        0        1    17   \n",
      "1226  1.09      8      0         1      0       1        1        1    10   \n",
      "1236  4.81     31      0         1      0       0        1        0    12   \n",
      "1241  5.34     20      0         1      0       0        1        0    12   \n",
      "1256  1.68      4      0         1      0       1        1        1    12   \n",
      "\n",
      "      looks  is_rich  rubbish  \n",
      "12        2        0   8.9584  \n",
      "33        2        1  10.3352  \n",
      "35        2        1  17.2272  \n",
      "37        2        0   7.5064  \n",
      "57        2        0   9.1136  \n",
      "...     ...      ...      ...  \n",
      "1225      2        0   9.6592  \n",
      "1226      2        0   3.1704  \n",
      "1236      2        0  12.6136  \n",
      "1241      2        0   9.3904  \n",
      "1256      2        0   2.2208  \n",
      "\n",
      "[142 rows x 12 columns]\n",
      "       wage  exper  union  goodhlth  black  female  married  service  educ  \\\n",
      "1      4.28     28      0         1      0       1        1        0    12   \n",
      "3     11.57     38      0         1      0       0        1        1    16   \n",
      "4     11.42     27      0         1      0       0        1        0    16   \n",
      "5      3.91     20      0         0      0       1        1        0    12   \n",
      "6      8.76     12      0         1      0       0        1        0    16   \n",
      "...     ...    ...    ...       ...    ...     ...      ...      ...   ...   \n",
      "1254   1.79     20      0         1      0       1        1        1     8   \n",
      "1255   1.61     25      0         1      1       1        0        1    12   \n",
      "1257   3.29     35      0         1      1       1        0        1    12   \n",
      "1258   2.31     15      0         1      1       1        1        1    10   \n",
      "1259   1.92     24      0         0      0       1        0        1    16   \n",
      "\n",
      "      looks  is_rich  rubbish  \n",
      "1         3        0  11.3568  \n",
      "3         3        1  18.6392  \n",
      "4         3        1  15.0352  \n",
      "5         3        0   8.5896  \n",
      "6         3        1   8.7456  \n",
      "...     ...      ...      ...  \n",
      "1254      3        0   7.4024  \n",
      "1255      3        0   8.9016  \n",
      "1257      3        0  13.0424  \n",
      "1258      3        0   6.0936  \n",
      "1259      3        0   8.7552  \n",
      "\n",
      "[722 rows x 12 columns]\n",
      "       wage  exper  union  goodhlth  black  female  married  service  educ  \\\n",
      "0      5.73     30      0         1      0       1        1        1    14   \n",
      "2      7.96     35      0         1      0       1        0        0    10   \n",
      "7      7.69      5      1         1      0       0        0        0    16   \n",
      "10     3.45      3      0         1      0       1        0        0    12   \n",
      "11     4.03      6      0         1      0       0        1        0    16   \n",
      "...     ...    ...    ...       ...    ...     ...      ...      ...   ...   \n",
      "1239   4.62     10      0         1      0       0        1        0    13   \n",
      "1240   2.40     12      0         1      0       0        0        1    12   \n",
      "1243   4.72      9      1         1      0       0        1        0    13   \n",
      "1247   5.31      3      0         1      0       0        0        0    17   \n",
      "1248  10.58     19      0         1      0       0        0        0    16   \n",
      "\n",
      "      looks  is_rich  rubbish  \n",
      "0         4        0  12.8088  \n",
      "2         4        1  15.6576  \n",
      "7         4        0   5.9064  \n",
      "10        4        0   2.8920  \n",
      "11        4        0   4.1768  \n",
      "...     ...      ...      ...  \n",
      "1239      4        0   5.7872  \n",
      "1240      4        0   5.1840  \n",
      "1243      4        0   5.5232  \n",
      "1247      4        0   3.9336  \n",
      "1248      4        1  12.0048  \n",
      "\n",
      "[364 rows x 12 columns]\n",
      "       wage  exper  union  goodhlth  black  female  married  service  educ  \\\n",
      "26    14.84     29      0         1      0       0        0        1    13   \n",
      "27    19.08     17      0         1      0       0        0        0    17   \n",
      "76    23.32     15      0         1      0       0        1        1    17   \n",
      "112    6.11      7      0         1      0       1        1        0    12   \n",
      "316    3.92     12      0         1      0       0        1        1    12   \n",
      "363   10.66      8      0         1      0       0        0        0    13   \n",
      "492    2.51      4      0         1      0       1        0        0    12   \n",
      "506    4.40      3      0         1      0       1        0        0    13   \n",
      "512    5.09      7      0         1      0       1        0        0    17   \n",
      "534    3.81      4      0         1      0       0        1        0    12   \n",
      "562    4.95     10      0         1      1       1        0        0    14   \n",
      "613    3.95      2      0         1      0       1        0        0    12   \n",
      "639    2.14     32      0         1      0       1        0        1    16   \n",
      "653    7.96     15      0         1      0       0        1        0    12   \n",
      "659   12.66     22      1         1      0       0        1        0    12   \n",
      "952    4.81      6      0         1      0       0        1        0    16   \n",
      "1013   3.61      6      0         1      0       0        0        0    12   \n",
      "1017   4.49     17      1         1      0       0        1        0    10   \n",
      "1200   2.07      5      1         1      0       1        0        1    12   \n",
      "\n",
      "      looks  is_rich  rubbish  \n",
      "26        5        1  17.5904  \n",
      "27        5        1  16.1248  \n",
      "76        5        1  17.8592  \n",
      "112       5        0   5.6616  \n",
      "316       5        0   6.0352  \n",
      "363       5        1   8.5296  \n",
      "492       5        0   2.6856  \n",
      "506       5        0   3.4240  \n",
      "512       5        0   5.0904  \n",
      "534       5        0   3.4136  \n",
      "562       5        0   5.9720  \n",
      "613       5        0   2.8520  \n",
      "639       5        0  11.4384  \n",
      "653       5        1   9.2576  \n",
      "659       5        1  14.1296  \n",
      "952       5        0   4.6136  \n",
      "1013      5        0   3.9416  \n",
      "1017      5        0   7.9544  \n",
      "1200      5        0   2.7592  \n"
     ]
    }
   ],
   "source": [
    "for look, sub_df in data.groupby(\"looks\"):\n",
    "    print(sub_df)"
   ]
  },
  {
   "cell_type": "code",
   "execution_count": 71,
   "metadata": {},
   "outputs": [
    {
     "data": {
      "text/html": [
       "<div>\n",
       "<style scoped>\n",
       "    .dataframe tbody tr th:only-of-type {\n",
       "        vertical-align: middle;\n",
       "    }\n",
       "\n",
       "    .dataframe tbody tr th {\n",
       "        vertical-align: top;\n",
       "    }\n",
       "\n",
       "    .dataframe thead th {\n",
       "        text-align: right;\n",
       "    }\n",
       "</style>\n",
       "<table border=\"1\" class=\"dataframe\">\n",
       "  <thead>\n",
       "    <tr style=\"text-align: right;\">\n",
       "      <th></th>\n",
       "      <th>looks</th>\n",
       "      <th>wage</th>\n",
       "      <th>married</th>\n",
       "    </tr>\n",
       "  </thead>\n",
       "  <tbody>\n",
       "    <tr>\n",
       "      <th>0</th>\n",
       "      <td>1</td>\n",
       "      <td>4.621538</td>\n",
       "      <td>0.615385</td>\n",
       "    </tr>\n",
       "    <tr>\n",
       "      <th>1</th>\n",
       "      <td>2</td>\n",
       "      <td>5.328803</td>\n",
       "      <td>0.711268</td>\n",
       "    </tr>\n",
       "    <tr>\n",
       "      <th>2</th>\n",
       "      <td>3</td>\n",
       "      <td>6.504598</td>\n",
       "      <td>0.716066</td>\n",
       "    </tr>\n",
       "    <tr>\n",
       "      <th>3</th>\n",
       "      <td>4</td>\n",
       "      <td>6.299341</td>\n",
       "      <td>0.651099</td>\n",
       "    </tr>\n",
       "    <tr>\n",
       "      <th>4</th>\n",
       "      <td>5</td>\n",
       "      <td>7.388421</td>\n",
       "      <td>0.421053</td>\n",
       "    </tr>\n",
       "  </tbody>\n",
       "</table>\n",
       "</div>"
      ],
      "text/plain": [
       "   looks      wage   married\n",
       "0      1  4.621538  0.615385\n",
       "1      2  5.328803  0.711268\n",
       "2      3  6.504598  0.716066\n",
       "3      4  6.299341  0.651099\n",
       "4      5  7.388421  0.421053"
      ]
     },
     "execution_count": 71,
     "metadata": {},
     "output_type": "execute_result"
    }
   ],
   "source": [
    "data.groupby(\"looks\", as_index=False)[[\"wage\", \"married\"]].agg(\"mean\")"
   ]
  },
  {
   "cell_type": "code",
   "execution_count": 66,
   "metadata": {},
   "outputs": [
    {
     "ename": "SyntaxError",
     "evalue": "invalid syntax (36382731.py, line 1)",
     "output_type": "error",
     "traceback": [
      "\u001b[1;36m  Cell \u001b[1;32mIn [66], line 1\u001b[1;36m\u001b[0m\n\u001b[1;33m    pd.aggregate()?\u001b[0m\n\u001b[1;37m                  ^\u001b[0m\n\u001b[1;31mSyntaxError\u001b[0m\u001b[1;31m:\u001b[0m invalid syntax\n"
     ]
    }
   ],
   "source": []
  },
  {
   "cell_type": "markdown",
   "metadata": {},
   "source": [
    "**Сводная таблица**"
   ]
  },
  {
   "cell_type": "code",
   "execution_count": 73,
   "metadata": {},
   "outputs": [
    {
     "data": {
      "text/html": [
       "<div>\n",
       "<style scoped>\n",
       "    .dataframe tbody tr th:only-of-type {\n",
       "        vertical-align: middle;\n",
       "    }\n",
       "\n",
       "    .dataframe tbody tr th {\n",
       "        vertical-align: top;\n",
       "    }\n",
       "\n",
       "    .dataframe thead th {\n",
       "        text-align: right;\n",
       "    }\n",
       "</style>\n",
       "<table border=\"1\" class=\"dataframe\">\n",
       "  <thead>\n",
       "    <tr style=\"text-align: right;\">\n",
       "      <th>married</th>\n",
       "      <th>0</th>\n",
       "      <th>1</th>\n",
       "    </tr>\n",
       "    <tr>\n",
       "      <th>female</th>\n",
       "      <th></th>\n",
       "      <th></th>\n",
       "    </tr>\n",
       "  </thead>\n",
       "  <tbody>\n",
       "    <tr>\n",
       "      <th>0</th>\n",
       "      <td>166</td>\n",
       "      <td>658</td>\n",
       "    </tr>\n",
       "    <tr>\n",
       "      <th>1</th>\n",
       "      <td>223</td>\n",
       "      <td>213</td>\n",
       "    </tr>\n",
       "  </tbody>\n",
       "</table>\n",
       "</div>"
      ],
      "text/plain": [
       "married    0    1\n",
       "female           \n",
       "0        166  658\n",
       "1        223  213"
      ]
     },
     "execution_count": 73,
     "metadata": {},
     "output_type": "execute_result"
    }
   ],
   "source": [
    "pd.crosstab(data[\"female\"], data[\"married\"])"
   ]
  },
  {
   "cell_type": "code",
   "execution_count": 17,
   "metadata": {},
   "outputs": [
    {
     "data": {
      "text/html": [
       "<div>\n",
       "<style scoped>\n",
       "    .dataframe tbody tr th:only-of-type {\n",
       "        vertical-align: middle;\n",
       "    }\n",
       "\n",
       "    .dataframe tbody tr th {\n",
       "        vertical-align: top;\n",
       "    }\n",
       "\n",
       "    .dataframe thead th {\n",
       "        text-align: right;\n",
       "    }\n",
       "</style>\n",
       "<table border=\"1\" class=\"dataframe\">\n",
       "  <thead>\n",
       "    <tr style=\"text-align: right;\">\n",
       "      <th>looks</th>\n",
       "      <th>1</th>\n",
       "      <th>2</th>\n",
       "      <th>3</th>\n",
       "      <th>4</th>\n",
       "      <th>5</th>\n",
       "    </tr>\n",
       "    <tr>\n",
       "      <th>female</th>\n",
       "      <th></th>\n",
       "      <th></th>\n",
       "      <th></th>\n",
       "      <th></th>\n",
       "      <th></th>\n",
       "    </tr>\n",
       "  </thead>\n",
       "  <tbody>\n",
       "    <tr>\n",
       "      <th>0</th>\n",
       "      <td>8</td>\n",
       "      <td>88</td>\n",
       "      <td>489</td>\n",
       "      <td>228</td>\n",
       "      <td>11</td>\n",
       "    </tr>\n",
       "    <tr>\n",
       "      <th>1</th>\n",
       "      <td>5</td>\n",
       "      <td>54</td>\n",
       "      <td>233</td>\n",
       "      <td>136</td>\n",
       "      <td>8</td>\n",
       "    </tr>\n",
       "  </tbody>\n",
       "</table>\n",
       "</div>"
      ],
      "text/plain": [
       "looks   1   2    3    4   5\n",
       "female                     \n",
       "0       8  88  489  228  11\n",
       "1       5  54  233  136   8"
      ]
     },
     "execution_count": 17,
     "metadata": {},
     "output_type": "execute_result"
    }
   ],
   "source": [
    "pd.crosstab(data[\"female\"], data[\"looks\"])"
   ]
  },
  {
   "cell_type": "markdown",
   "metadata": {},
   "source": [
    "**Добавление столбцов (построение признаков)**"
   ]
  },
  {
   "cell_type": "code",
   "execution_count": 80,
   "metadata": {},
   "outputs": [
    {
     "data": {
      "text/plain": [
       "0       0\n",
       "1       0\n",
       "2       1\n",
       "3       1\n",
       "4       1\n",
       "       ..\n",
       "1255    0\n",
       "1256    0\n",
       "1257    0\n",
       "1258    0\n",
       "1259    0\n",
       "Name: is_rich, Length: 1260, dtype: int64"
      ]
     },
     "execution_count": 80,
     "metadata": {},
     "output_type": "execute_result"
    }
   ],
   "source": [
    "data[\"is_rich\"] = (data[\"wage\"] > data[\"wage\"].quantile(.75)) \\\n",
    "        .astype(\"int64\")\n",
    "\n",
    "data.is_rich"
   ]
  },
  {
   "cell_type": "code",
   "execution_count": 78,
   "metadata": {},
   "outputs": [
    {
     "data": {
      "text/plain": [
       "0       0\n",
       "1       0\n",
       "2       1\n",
       "3       1\n",
       "4       1\n",
       "       ..\n",
       "1255    0\n",
       "1256    0\n",
       "1257    0\n",
       "1258    0\n",
       "1259    0\n",
       "Name: wage, Length: 1260, dtype: int64"
      ]
     },
     "execution_count": 78,
     "metadata": {},
     "output_type": "execute_result"
    }
   ],
   "source": [
    "(data[\"wage\"] > data[\"wage\"].quantile(.75)) \\\n",
    "        .astype(\"int64\")"
   ]
  },
  {
   "cell_type": "code",
   "execution_count": 18,
   "metadata": {},
   "outputs": [],
   "source": [
    "data[\"is_rich\"] = (data[\"wage\"] > data[\"wage\"].quantile(0.75)).astype(\"int64\")"
   ]
  },
  {
   "cell_type": "code",
   "execution_count": 19,
   "metadata": {},
   "outputs": [
    {
     "data": {
      "text/html": [
       "<div>\n",
       "<style scoped>\n",
       "    .dataframe tbody tr th:only-of-type {\n",
       "        vertical-align: middle;\n",
       "    }\n",
       "\n",
       "    .dataframe tbody tr th {\n",
       "        vertical-align: top;\n",
       "    }\n",
       "\n",
       "    .dataframe thead th {\n",
       "        text-align: right;\n",
       "    }\n",
       "</style>\n",
       "<table border=\"1\" class=\"dataframe\">\n",
       "  <thead>\n",
       "    <tr style=\"text-align: right;\">\n",
       "      <th></th>\n",
       "      <th>wage</th>\n",
       "      <th>exper</th>\n",
       "      <th>union</th>\n",
       "      <th>goodhlth</th>\n",
       "      <th>black</th>\n",
       "      <th>female</th>\n",
       "      <th>married</th>\n",
       "      <th>service</th>\n",
       "      <th>educ</th>\n",
       "      <th>looks</th>\n",
       "      <th>is_rich</th>\n",
       "    </tr>\n",
       "  </thead>\n",
       "  <tbody>\n",
       "    <tr>\n",
       "      <th>0</th>\n",
       "      <td>5.73</td>\n",
       "      <td>30</td>\n",
       "      <td>0</td>\n",
       "      <td>1</td>\n",
       "      <td>0</td>\n",
       "      <td>1</td>\n",
       "      <td>1</td>\n",
       "      <td>1</td>\n",
       "      <td>14</td>\n",
       "      <td>4</td>\n",
       "      <td>0</td>\n",
       "    </tr>\n",
       "    <tr>\n",
       "      <th>1</th>\n",
       "      <td>4.28</td>\n",
       "      <td>28</td>\n",
       "      <td>0</td>\n",
       "      <td>1</td>\n",
       "      <td>0</td>\n",
       "      <td>1</td>\n",
       "      <td>1</td>\n",
       "      <td>0</td>\n",
       "      <td>12</td>\n",
       "      <td>3</td>\n",
       "      <td>0</td>\n",
       "    </tr>\n",
       "    <tr>\n",
       "      <th>2</th>\n",
       "      <td>7.96</td>\n",
       "      <td>35</td>\n",
       "      <td>0</td>\n",
       "      <td>1</td>\n",
       "      <td>0</td>\n",
       "      <td>1</td>\n",
       "      <td>0</td>\n",
       "      <td>0</td>\n",
       "      <td>10</td>\n",
       "      <td>4</td>\n",
       "      <td>1</td>\n",
       "    </tr>\n",
       "    <tr>\n",
       "      <th>3</th>\n",
       "      <td>11.57</td>\n",
       "      <td>38</td>\n",
       "      <td>0</td>\n",
       "      <td>1</td>\n",
       "      <td>0</td>\n",
       "      <td>0</td>\n",
       "      <td>1</td>\n",
       "      <td>1</td>\n",
       "      <td>16</td>\n",
       "      <td>3</td>\n",
       "      <td>1</td>\n",
       "    </tr>\n",
       "    <tr>\n",
       "      <th>4</th>\n",
       "      <td>11.42</td>\n",
       "      <td>27</td>\n",
       "      <td>0</td>\n",
       "      <td>1</td>\n",
       "      <td>0</td>\n",
       "      <td>0</td>\n",
       "      <td>1</td>\n",
       "      <td>0</td>\n",
       "      <td>16</td>\n",
       "      <td>3</td>\n",
       "      <td>1</td>\n",
       "    </tr>\n",
       "  </tbody>\n",
       "</table>\n",
       "</div>"
      ],
      "text/plain": [
       "    wage  exper  union  goodhlth  black  female  married  service  educ  \\\n",
       "0   5.73     30      0         1      0       1        1        1    14   \n",
       "1   4.28     28      0         1      0       1        1        0    12   \n",
       "2   7.96     35      0         1      0       1        0        0    10   \n",
       "3  11.57     38      0         1      0       0        1        1    16   \n",
       "4  11.42     27      0         1      0       0        1        0    16   \n",
       "\n",
       "   looks  is_rich  \n",
       "0      4        0  \n",
       "1      3        0  \n",
       "2      4        1  \n",
       "3      3        1  \n",
       "4      3        1  "
      ]
     },
     "execution_count": 19,
     "metadata": {},
     "output_type": "execute_result"
    }
   ],
   "source": [
    "data.head()"
   ]
  },
  {
   "cell_type": "code",
   "execution_count": 20,
   "metadata": {},
   "outputs": [],
   "source": [
    "data[\"rubbish\"] = 0.56 * data[\"wage\"] + 0.32 * data[\"exper\"]"
   ]
  },
  {
   "cell_type": "markdown",
   "metadata": {
    "collapsed": true
   },
   "source": [
    "**map и apply**"
   ]
  },
  {
   "cell_type": "code",
   "execution_count": 21,
   "metadata": {},
   "outputs": [],
   "source": [
    "def string_gender(female):\n",
    "    return \"female\" if female else \"male\""
   ]
  },
  {
   "cell_type": "code",
   "execution_count": 22,
   "metadata": {},
   "outputs": [],
   "source": [
    "d = {1: \"union\", 0: \"non-union\"}"
   ]
  },
  {
   "cell_type": "code",
   "execution_count": 23,
   "metadata": {},
   "outputs": [
    {
     "data": {
      "text/plain": [
       "0    non-union\n",
       "1    non-union\n",
       "2    non-union\n",
       "3    non-union\n",
       "4    non-union\n",
       "Name: union, dtype: object"
      ]
     },
     "execution_count": 23,
     "metadata": {},
     "output_type": "execute_result"
    }
   ],
   "source": [
    "data[\"union\"].map(d).head()"
   ]
  },
  {
   "cell_type": "code",
   "execution_count": 24,
   "metadata": {},
   "outputs": [
    {
     "data": {
      "text/plain": [
       "0    female\n",
       "1    female\n",
       "2    female\n",
       "3      male\n",
       "4      male\n",
       "Name: female, dtype: object"
      ]
     },
     "execution_count": 24,
     "metadata": {},
     "output_type": "execute_result"
    }
   ],
   "source": [
    "data[\"female\"].apply(lambda female: \"female\" if female else \"male\").head()"
   ]
  }
 ],
 "metadata": {
  "kernelspec": {
   "display_name": "Python 3.9.7 ('base')",
   "language": "python",
   "name": "python3"
  },
  "language_info": {
   "codemirror_mode": {
    "name": "ipython",
    "version": 3
   },
   "file_extension": ".py",
   "mimetype": "text/x-python",
   "name": "python",
   "nbconvert_exporter": "python",
   "pygments_lexer": "ipython3",
   "version": "3.9.7"
  },
  "vscode": {
   "interpreter": {
    "hash": "49cb93f377a7abe7414b7b0f21fb3017538004a126cf690fb524202736b7fb92"
   }
  }
 },
 "nbformat": 4,
 "nbformat_minor": 2
}
